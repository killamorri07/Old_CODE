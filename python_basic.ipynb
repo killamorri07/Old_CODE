

# set of integers
int_set = {10, 20, 30, 40}
print(int_set)

# set of data with mixed types
mixed_set = {1.0, "Hello", (1, 2, 3)}
print(mixed_set)

# set with an input string
print(set("hello"))

# empty set
print(type(set()))
print(type({}))

# dict constructor
car_dict = {
  "brand": "BMW",
  "model": "218d Gran Tourer",
  "year": 2020
}
print(car_dict)

#the dict constructor accepts a sequence of key-value pairs as a parameter
pairs = [('ga', 'Irish'), ('de', 'German')]
print(dict(pairs))


///
Control Flow - if
///

